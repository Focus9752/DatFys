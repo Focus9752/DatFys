{
 "cells": [
  {
   "cell_type": "markdown",
   "metadata": {
    "slideshow": {
     "slide_type": "slide"
    }
   },
   "source": [
    "# Datalogi for fysikere\n",
    "## Week 1\n",
    "\n",
    "- Lecturer: Johan Fynbo. I have taken over this year from Ala Trusina. Much of the teaching material is developed by her. Later we may teach the course together. \n",
    "- Practicals: Andreas, Lau, Lassa, Luka, Christine\n"
   ]
  },
  {
   "cell_type": "markdown",
   "metadata": {
    "slideshow": {
     "slide_type": "slide"
    }
   },
   "source": [
    "# Motivation and overview \n",
    "\n",
    "\n",
    "### Most of the jobs (where physists go) require coding. \n",
    "\n",
    "Computer is a central tool (also) in physics\n",
    "\n",
    "This course is fairly basic. You have had some introduction to python in the course \"Data og Projekt\". There are more advanced courses, e.g., \n",
    "\n",
    "- Numerical Methods in Physics\n",
    "- Scientific Computing\n",
    "- Computational Astrophysics\n",
    "- High Performance Parallel Computing (C++)\n",
    "- to some extent Astronomical Data Processing\n",
    "- to some extent Applied Statistics: From Data to Results.  \n",
    "\n",
    "Generic things about the need of computing for phycisists:\n",
    "- Nowing as how to handle (organise, analyze) the data is crucial for an experiment\n",
    "- Often making the right plot/figure is what makes all the difference for a paper  \n",
    "- You _will not_ be a programmer (or datascientist) after this course,\n",
    "    - but if you keep developing during your bachelor and master you can get hired into IT-related jobs.\n",
    "\n",
    "You should make sure that:\n",
    "  - I would love a \"library of good solutions\", \"tips and tricks\". You can find my start on that under _Absalon page_ [files](https://absalon.ku.dk/courses/76044/files). Contribute if you can!\n",
    "  - I would also like to have a list of \"interesting problems\" to solve"
   ]
  },
  {
   "cell_type": "code",
   "execution_count": 5,
   "metadata": {},
   "outputs": [
    {
     "name": "stdout",
     "output_type": "stream",
     "text": [
      "Script start running at:  1731582342.46354\n",
      "2 3 5 7 End of script at:  1731582342.463847\n",
      "Execution time:  0.00030684471130371094 seconds\n"
     ]
    }
   ],
   "source": [
    "# Python program to illustrate what computers are good at...\n",
    "# To print total number of primes below an interger n\n",
    "# using Sieve of Eratosthenes (https://en.wikipedia.org/wiki/Sieve_of_Eratosthenes)\n",
    "\n",
    "import time\n",
    "\n",
    "def printPrime(n):\n",
    "\n",
    "    # Create a boolean array \"prime[0..n]\"\n",
    "    # and initialize all entries it as\n",
    "    # true. A value in prime[i] will\n",
    "    # finally be false if i is not a prime,\n",
    "    # else true.\n",
    "    prime = [True for i in range(n + 2)]\n",
    "    p = 2\n",
    "\n",
    "    while (p * p <= n + 1):\n",
    "\n",
    "        # If prime[p] is not changed,\n",
    "        # then it is a prime\n",
    "        if (prime[p] == True):\n",
    "\n",
    "            # Update all multiples of p\n",
    "            for i in range(p * 2, n + 2, p):\n",
    "                prime[i] = False\n",
    "        p += 1\n",
    "\n",
    "    # display the twin prime numbers\n",
    "    for p in range(2, n-1):\n",
    "        if prime[p]:\n",
    "            print(p, end=' ')\n",
    "\n",
    "# driver program\n",
    "if __name__=='__main__':\n",
    "\n",
    "   starttime = time.time()\n",
    "   print('Script start running at: ', starttime)\n",
    "\n",
    "   # static input\n",
    "   n = 10\n",
    "\n",
    "   # Calling the function\n",
    "   printPrime(n)\n",
    "\n",
    "   endtime = time.time()\n",
    "   print('End of script at: ', endtime)\n",
    "   print('Execution time: ', endtime - starttime, 'seconds')"
   ]
  },
  {
   "cell_type": "markdown",
   "metadata": {
    "jp-MarkdownHeadingCollapsed": true,
    "slideshow": {
     "slide_type": "slide"
    }
   },
   "source": [
    "# Course structure\n",
    "\n",
    "## Absalon\n",
    "\n",
    "- Contains most of the information about the course:\n",
    "- **When & Where, Submission deadlines** ... front page (Absalon)\n"
   ]
  },
  {
   "cell_type": "markdown",
   "metadata": {
    "jp-MarkdownHeadingCollapsed": true,
    "slideshow": {
     "slide_type": "slide"
    }
   },
   "source": [
    "# Course structure\n",
    "\n",
    "## Absalon\n",
    "\n",
    "- Contains most of the information about the course:\n",
    "- **When & Where, Submission deadlines** ... front page (Absalon)\n"
   ]
  },
  {
   "cell_type": "markdown",
   "metadata": {
    "slideshow": {
     "slide_type": "subslide"
    }
   },
   "source": [
    "## Lectures \n",
    "\n",
    "I am using much of the material from last year. The typical lecture will consist of:\n",
    "\n",
    "1. Programming concepts (Python)\n",
    "2. Algorithmic/Computational thinking\n",
    "3. Visualizations"
   ]
  },
  {
   "cell_type": "markdown",
   "metadata": {
    "slideshow": {
     "slide_type": "subslide"
    }
   },
   "source": [
    "## Practicals\n",
    "\n",
    "- Practicals are the **_most important_** part of the course\n",
    "  - Instructors/TAs are great! Use them!\n",
    "- Typically assignemnts can completed during Practicals hours  "
   ]
  },
  {
   "cell_type": "markdown",
   "metadata": {
    "slideshow": {
     "slide_type": "fragment"
    }
   },
   "source": [
    "### How\n",
    " - There are no stupid questions!\n",
    " - When asking TAs for help\n",
    "     - Try to explain what you think the problem is and how you tried to solve it \n",
    " - To queue, add your name to the black-(or white) board list\n",
    "\n",
    "\n"
   ]
  },
  {
   "cell_type": "markdown",
   "metadata": {
    "slideshow": {
     "slide_type": "slide"
    }
   },
   "source": [
    "## Assignments\n",
    "\n",
    "- There are **3 assignments** that _must_ be approved to go to the exam.\n",
    "- Feedback\n",
    "    - Written feedback is provided within one week. \n",
    "    - If required a corrected version should be handed in within one week after recieving the comments.\n",
    "    - The assignments need to be approved before you can take the exam.  \n",
    "- Ok to discuss in groups of up to 4 people\n",
    "  - **Coding and reports are individual** "
   ]
  },
  {
   "cell_type": "markdown",
   "metadata": {
    "slideshow": {
     "slide_type": "slide"
    }
   },
   "source": [
    "## Reports \n",
    "\n",
    "- Please specify\n",
    "  - your name & ku id\n",
    "  - members of your discussion group (if any)\n",
    "  - there should be pseudo code - i.e. a description of the logical flow of the code.\n",
    "  - there should be comments in the code. The level of detail in the comments should be such that a fellow student can understand what you do. \n",
    "\n",
    "\n",
    "  "
   ]
  },
  {
   "cell_type": "markdown",
   "metadata": {
    "slideshow": {
     "slide_type": "slide"
    }
   },
   "source": [
    " # <span style=\"color: black;\">  ChatGPT and GitHub Copilot </span>\n",
    " "
   ]
  },
  {
   "cell_type": "markdown",
   "metadata": {
    "slideshow": {
     "slide_type": "slide"
    }
   },
   "source": [
    "- See note under \"tips and tricks\"\n",
    "\n",
    "### What is ok? \n",
    "- To look up information as you would do with google (e.g., how to initialize a numpy array with all 0s? How to concatenate 2 arrays, etc.)\n",
    "- Get entire functions, logical constructions\n",
    "- ask for information on how to fix your code \n",
    "### What is not ok?\n",
    "\n",
    "- copy-paste questions from assignments to get a full answer - only ask about steps\n",
    "- Hand in something you don't understand\n",
    "\n",
    "### We expect (and may ask)\n",
    "- you can tell us what every single line of your code does\n",
    "- and why you coded it the way you did\n"
   ]
  },
  {
   "cell_type": "markdown",
   "metadata": {
    "slideshow": {
     "slide_type": "slide"
    }
   },
   "source": [
    "## Exam  \n",
    "- 14 days project\n",
    "- _Individual, no colaborations_\n",
    "- There will be possibility to get TA help 2 times (spørgetimer)\n",
    "- will be similar to the assignments "
   ]
  },
  {
   "cell_type": "markdown",
   "metadata": {
    "jp-MarkdownHeadingCollapsed": true,
    "slideshow": {
     "slide_type": "slide"
    }
   },
   "source": [
    "# Programming environment \n",
    "\n",
    "See _Absalon page_ [Computing Environment](https://absalon.ku.dk/courses/52403/pages/computing-environment)\n",
    "\n",
    "* We encourage you to install python locally on your computers using Anaconda.\n",
    "* You can either work with Jupyter notebooks, write scripts using a terminal, or use tools such as Visual Studio Code.      \n",
    "* Can also use ERDA [ERDA](https://erda.dk).\n",
    "\n",
    "* If you run into problems, ask your TA for help with these."
   ]
  },
  {
   "cell_type": "markdown",
   "metadata": {
    "jp-MarkdownHeadingCollapsed": true,
    "slideshow": {
     "slide_type": "slide"
    }
   },
   "source": [
    "# Some house keeping advice\n",
    "- Organise your files on your computer in a comprehensible manner\n",
    "- Make folders and sub-folders and sub-sub-folders in a logical way, e.g. /home/study/courses/DatF/Week1, etc.\n",
    "- You may try to become with using terminals and OS commands\n",
    "- I have added some information under \"TipsogTricks\" under _Absalon page_ [files](https://absalon.ku.dk/courses/76044/files).\n"
   ]
  },
  {
   "cell_type": "markdown",
   "metadata": {
    "slideshow": {
     "slide_type": "slide"
    }
   },
   "source": [
    "# This week \n",
    "\n",
    "- Programming concepts 1:\n",
    "    **Refresh** -- Variables, NumPy arrays, If/else conditional statements, Loops. \n",
    "   \n",
    "    - all covered in video tutorials/quizzes\n",
    "            \n",
    "- Programming concepts 2:  **New** -- Functions, local and global varaibles.\n",
    "    \n",
    "        "
   ]
  },
  {
   "cell_type": "markdown",
   "metadata": {
    "slideshow": {
     "slide_type": "fragment"
    }
   },
   "source": [
    "- Algorithmic/Computational Thinking: From Pseudocode to a computer  program\n",
    "- Visualisations: 1D line and 2D matrix views"
   ]
  },
  {
   "cell_type": "markdown",
   "metadata": {
    "slideshow": {
     "slide_type": "slide"
    }
   },
   "source": [
    "# Programming\n",
    "\n",
    "* Along the way I have been introduced to many programming langauges:\n",
    "    - Sinclair BASIC and Basic (ZX80 and Commodore, early 1980s)\n",
    "    - COBOL-80 (aftenskolen, mid 1980s)\n",
    "    - Pascal (late 1980s, gymnasium)\n",
    "    - Turbo-Pascal (early university)\n",
    "    - IDL, fortran, supermongo (PhD)\n",
    "    - MatLab (teaching)\n",
    "    - now Python (last couple of years)\n",
    "\n",
    "* Only few concepts, same across all languages\n",
    "    - Variables/datatypes\n",
    "    - for loops\n",
    "    - while statements\n",
    "    - lists/arrays\n",
    "    - if/else statements\n",
    "    - functions\n",
    "    - input from and output to files\n",
    "    - plotting...\n",
    "\n",
    "* In principle it is easy, but there is a grammar to learn. The difficulty lies in learning to speak the langauge.\n",
    "\n"
   ]
  },
  {
   "cell_type": "markdown",
   "metadata": {},
   "source": [
    "# From ChatGPT: Python can handle a wide variety of objects, allowing you to work with simple data structures, complex collections, and user-defined objects. Here’s a rundown of the types of objects Python can handle:\n",
    "\n",
    "Python has several built-in data types, each serving different purposes. Here’s a summary of the main types:\n",
    "\n",
    "1. Numeric Types\n",
    "\n",
    "\t•\tint: Integer values (e.g., 10, -5).\n",
    "\t•\tfloat: Floating-point numbers, used for decimal values (e.g., 3.14, -0.001).\n",
    "\t•\tcomplex: Complex numbers, which have a real and an imaginary part (e.g., 3 + 5j).\n",
    "\n",
    "2. Sequence Types\n",
    "\n",
    "\t•\tstr: String, a sequence of characters (e.g., \"hello\").\n",
    "\t•\tlist: A mutable ordered collection of items (e.g., [1, 2, 3, 'apple']).\n",
    "\t•\ttuple: An immutable ordered collection (e.g., (1, 2, 3, 'apple')).\n",
    "\t•\trange: Represents a sequence of numbers (e.g., range(0, 5)).\n",
    "\n",
    "3. Mapping Type\n",
    "\n",
    "\t•\tdict: A collection of key-value pairs, where each key is unique (e.g., {'name': 'Alice', 'age': 25}).\n",
    "\n",
    "4. Set Types\n",
    "\n",
    "\t•\tset: An unordered collection of unique items (e.g., {1, 2, 3, 'apple'}).\n",
    "\t•\tfrozenset: An immutable version of a set.\n",
    "\n",
    "5. Boolean Type\n",
    "\n",
    "\t•\tbool: Represents True or False values, often used in logical operations (e.g., True, False).\n",
    "\n",
    "6. Binary Types\n",
    "\n",
    "\t•\tbytes: Immutable sequence of bytes (e.g., b'hello').\n",
    "\t•\tbytearray: Mutable sequence of bytes.\n",
    "\t•\tmemoryview: A memory view object, useful for efficient data manipulation.\n",
    "\n",
    "7. None Type\n",
    "\n",
    "\t•\tNoneType: Represents the absence of a value, typically shown as None.\n",
    "\n",
    "Each type can be checked using type() and has its own methods for operations and manipulation.\n",
    "\n",
    "8. Functions\n",
    "\n",
    "\n",
    "\t-\tFunction objects: Python functions are first-class objects, meaning they can be assigned to variables, passed as arguments, and returned from other functions.\n",
    "\n",
    "9. Classes and Instances\n",
    "\n",
    "\t-\tClasses: Blueprints for creating objects with attributes and methods.\n",
    "\t-\tInstances: Objects created from a class. They can have unique attributes and behaviors.\n",
    "\n",
    "10. Modules and Packages\n",
    "\n",
    "\t-\tModules: Files containing Python code, including functions, classes, and variables. Python modules are objects and can be imported.\n",
    "\t-\tPackages: Collections of modules grouped in directories.\n",
    "\n",
    "11. Generators and Iterators\n",
    "\n",
    "\t-\tGenerators: Special functions that yield values one at a time, allowing efficient iteration without storing the entire sequence in memory.\n",
    "\t-\tIterators: Objects that represent a stream of data. Iterators are used to traverse collections.\n",
    "\n",
    "12. Specialized Data Structures\n",
    "\n",
    "\t-\tNamedtuples: Immutable collections with named fields (from the collections module).\n",
    "\t-\tDeque: Double-ended queue (from the collections module).\n",
    "\t-\tCounter: Specialized dictionary for counting hashable objects (from the collections module).\n",
    "\t-\tOrderedDict: Dictionary that maintains the order of items (from the collections module).\n",
    "\t-\tDefaultdict: Dictionary that provides default values for missing keys (from the collections module).\n",
    "\n",
    "13. User-Defined Objects\n",
    "\n",
    "\t-\tPython allows you to create custom objects using classes, where you can define unique properties and methods for the objects you need.\n",
    "\n",
    "14. File and Network Objects\n",
    "\n",
    "\t-\tFile objects: Used for reading and writing files.\n",
    "\t-\tSocket objects: Used for handling network connections and communication.\n",
    "\n",
    "15. Context Managers\n",
    "\n",
    "\t-\tWith Objects: Objects that control resource management, like files, with the with statement, ensuring proper cleanup.\n",
    "\n",
    "Python’s flexibility with objects is a key feature that enables complex programming patterns and powerful abstractions. Each object has specific attributes and methods, and they are all derived from Python’s root object class, allowing customization and polymorphism.\n",
    "\n",
    "\n"
   ]
  },
  {
   "cell_type": "markdown",
   "metadata": {
    "slideshow": {
     "slide_type": "slide"
    }
   },
   "source": [
    "# Programming \n",
    "# It is about solving problems\n",
    "\n",
    "* basic concepts -- learn how to use these concepts\n",
    "\n",
    "* Write out solution ( **_algorithm_** ) in english using these concepts \n",
    "    - ... and convert to code later\n",
    "\n",
    "  "
   ]
  },
  {
   "cell_type": "markdown",
   "metadata": {
    "slideshow": {
     "slide_type": "slide"
    }
   },
   "source": [
    "# Algorithm\n",
    "\n",
    "- A solution to your problem (recipy) using the **programming concepts**"
   ]
  },
  {
   "cell_type": "markdown",
   "metadata": {
    "slideshow": {
     "slide_type": "fragment"
    }
   },
   "source": [
    "## Algorthm examples ?\n",
    "\n",
    "- Cooking/Baking recipy  \n",
    "- Chain rule (Kædereglen) \n",
    "- IKEA instructions "
   ]
  },
  {
   "cell_type": "markdown",
   "metadata": {
    "slideshow": {
     "slide_type": "slide"
    }
   },
   "source": [
    "## \"add two numbers\" algorithm\n",
    "### 1. pseudo code"
   ]
  },
  {
   "cell_type": "code",
   "execution_count": 1,
   "metadata": {
    "slideshow": {
     "slide_type": "fragment"
    }
   },
   "outputs": [],
   "source": [
    "#1. create a new  variable `X`\n",
    "\n",
    "#2. create a new  variable `Y`\n",
    "\n",
    "#3. create a new  variable `sum`\n",
    "\n",
    "#4. put x + y in `sum`\n",
    "\n",
    "#5. print 'answer is' sum"
   ]
  },
  {
   "cell_type": "markdown",
   "metadata": {
    "slideshow": {
     "slide_type": "slide"
    }
   },
   "source": [
    "### 2. Convert comments to code"
   ]
  },
  {
   "cell_type": "code",
   "execution_count": 40,
   "metadata": {
    "slideshow": {
     "slide_type": "fragment"
    }
   },
   "outputs": [
    {
     "name": "stdout",
     "output_type": "stream",
     "text": [
      "X is: 5\n",
      "Y is: 13\n",
      "The sum of X and Y is: 513\n"
     ]
    }
   ],
   "source": [
    "   #1. create a new  variable `X`\n",
    "X = \"5\"\n",
    "\n",
    "#2. create a new  variable `Y`\n",
    "Y = \"13\"\n",
    "\n",
    "#3. create a new  variable `sum`\n",
    "sum = 0\n",
    "\n",
    "#4. put x + y in `sum`\n",
    "sum = X + Y\n",
    "\n",
    "#5. print 'answer is' sum\n",
    "print('X is:',X)\n",
    "print('Y is:',Y)\n",
    "print('The sum of X and Y is:', sum)"
   ]
  },
  {
   "cell_type": "markdown",
   "metadata": {
    "slideshow": {
     "slide_type": "slide"
    }
   },
   "source": [
    "## Failure is _Wonderful_ ! (well, it is good for something)\n",
    "\n",
    "* Failure is our opportunity to grow (so they say).\n",
    "* It is certainly a normal part of programming"
   ]
  },
  {
   "cell_type": "markdown",
   "metadata": {
    "slideshow": {
     "slide_type": "fragment"
    }
   },
   "source": [
    "### How to fail efficiently?  \n",
    "\n",
    "* Test every 2-3 lines of code (print)\n",
    "    * **Before test** -- <span style=\"color:blue\"> What do I expect? </span>\n",
    "    * **After test** -- <span style=\"color:blue\">Why not </span> as I expected?"
   ]
  },
  {
   "cell_type": "markdown",
   "metadata": {
    "slideshow": {
     "slide_type": "subslide"
    }
   },
   "source": [
    "### Two types of failures  \n",
    "\n",
    "* Did you tell it what **to do incorrectly** (syntax error)\n",
    "    * or did you tell it **to do the wrong thing?** (no error message, but the result is wrong!)\n",
    "    "
   ]
  },
  {
   "cell_type": "markdown",
   "metadata": {
    "slideshow": {
     "slide_type": "fragment"
    }
   },
   "source": [
    "* **Implementation**  or **algorithm** failure?"
   ]
  },
  {
   "cell_type": "markdown",
   "metadata": {
    "slideshow": {
     "slide_type": "slide"
    }
   },
   "source": [
    "## Version 2.0\n",
    "\n"
   ]
  },
  {
   "cell_type": "code",
   "execution_count": 72,
   "metadata": {
    "slideshow": {
     "slide_type": "fragment"
    }
   },
   "outputs": [
    {
     "name": "stdout",
     "output_type": "stream",
     "text": [
      "Type of X: <class 'str'>\n",
      "New type of X: <class 'int'>\n",
      "X is: 5\n",
      "Y is: 13\n",
      "The sum of X and Y is: 18\n"
     ]
    }
   ],
   "source": [
    "#1. create an new  variable `X`\n",
    "X = \"5\"\n",
    "print('Type of X:', type(X))\n",
    "\n",
    "#2. create an new  variable `Y`\n",
    "Y = \"13\"\n",
    "\n",
    "#3. create an new  variable `sum`\n",
    "sum = 0\n",
    "\n",
    "#4. convert x to integer\n",
    "X = int(X)\n",
    "print('New type of X:', type(X))\n",
    "\n",
    "#5. convert y to integer\n",
    "Y = int(Y)\n",
    "\n",
    "#6. put x + y in `sum`\n",
    "sum = X + Y\n",
    "\n",
    "#7. print 'answer is' sum\n",
    "print('X is:',X)\n",
    "print('Y is:',Y)\n",
    "print('The sum of X and Y is:', sum)"
   ]
  },
  {
   "cell_type": "markdown",
   "metadata": {
    "jp-MarkdownHeadingCollapsed": true,
    "slideshow": {
     "slide_type": "slide"
    }
   },
   "source": [
    "## How to debug?\n",
    "\n",
    "* Bad implementation (--> syntax errors) can be googled\n",
    "* Bad algorithms usually not\n",
    "    * understand your problem, know what to expect, test limiting cases"
   ]
  },
  {
   "cell_type": "markdown",
   "metadata": {
    "slideshow": {
     "slide_type": "slide"
    }
   },
   "source": [
    "## New problem?\n",
    "## Start with solution in English (pseudocode)\n",
    "\n",
    "\n",
    "**Problem**:\n",
    "\n",
    "Add and print random numbers as long as their sum does not exceed 10."
   ]
  },
  {
   "cell_type": "markdown",
   "metadata": {
    "slideshow": {
     "slide_type": "fragment"
    }
   },
   "source": [
    "**Solution in english (v0.1)**:\n",
    "\n",
    "1. generate random number, `rn`\n",
    "2. print random number \n",
    "3. calculate `sum` \n",
    "4. repeat pts 1.-3. (loop) as long as sum is smaller than 10"
   ]
  },
  {
   "cell_type": "markdown",
   "metadata": {
    "slideshow": {
     "slide_type": "subslide"
    }
   },
   "source": [
    "## Convert comments to code"
   ]
  },
  {
   "cell_type": "code",
   "execution_count": 47,
   "metadata": {
    "slideshow": {
     "slide_type": "fragment"
    }
   },
   "outputs": [
    {
     "name": "stdout",
     "output_type": "stream",
     "text": [
      "0.2387284250171119\n"
     ]
    }
   ],
   "source": [
    "import numpy.random as random\n",
    "\n",
    "#1. generate random number, `rn`\n",
    "rn = random.rand()\n",
    "#2. print random number \n",
    "print(rn)\n",
    "#3. calculate `sum`\n",
    "sum = sum + rn\n",
    "#4. repeat pts 1.-3. (loop) until sum is smaller than 10"
   ]
  },
  {
   "cell_type": "code",
   "execution_count": 49,
   "metadata": {
    "slideshow": {
     "slide_type": "subslide"
    }
   },
   "outputs": [
    {
     "name": "stdout",
     "output_type": "stream",
     "text": [
      "0.6903288214211544\n"
     ]
    }
   ],
   "source": [
    "import numpy.random as random\n",
    "\n",
    "#0. make variable sum and initialize it to 0\n",
    "sum = 0\n",
    "\n",
    "#1. generate random number, `rn`\n",
    "rn = random.rand()\n",
    "#2. print random number \n",
    "print(rn)\n",
    "#3. calculate `sum`\n",
    "sum = sum + rn \n",
    "#4. repeat pts 1.-3. (loop) while sum is smaller than 10\n",
    "\n",
    "\n"
   ]
  },
  {
   "cell_type": "code",
   "execution_count": 6,
   "metadata": {
    "slideshow": {
     "slide_type": "subslide"
    }
   },
   "outputs": [
    {
     "name": "stdout",
     "output_type": "stream",
     "text": [
      "0.5522247361336969\n",
      "0.11751206334007014\n",
      "0.09550247651423449\n",
      "0.7279717726250685\n",
      "0.2577548605997251\n",
      "0.9839978592553104\n",
      "0.511189129947172\n",
      "0.33685259047301075\n",
      "0.8634707870545942\n",
      "0.9389934169628286\n",
      "0.15571931268812633\n",
      "0.45020979518069404\n",
      "0.29268930919112157\n",
      "0.708591730966847\n",
      "0.11501306356292318\n",
      "0.6311966675155044\n",
      "0.14595372748771795\n",
      "0.5701471783288307\n",
      "0.9551014287011026\n",
      "0.0030076629581375913\n",
      "0.978748267161698\n",
      "sum= 10.391847836648415\n"
     ]
    }
   ],
   "source": [
    "import numpy.random as random\n",
    "\n",
    "#0. make variable sum and initialize it to 0\n",
    "sum = 0\n",
    "\n",
    "while sum < 10: #4. repeat pts 1.-3. (loop) while sum is smaller than 10\n",
    "    #1. generate random number, `rn`\n",
    "    rn = random.rand()\n",
    "    #2. prin random number\n",
    "    print(rn)\n",
    "    #3. calculate `sum`\n",
    "    sum = sum + rn # hmm... did not make this variable...\n",
    "\n",
    "print('sum=',sum)\n"
   ]
  },
  {
   "cell_type": "code",
   "execution_count": 51,
   "metadata": {
    "slideshow": {
     "slide_type": "subslide"
    }
   },
   "outputs": [
    {
     "name": "stdout",
     "output_type": "stream",
     "text": [
      "0.9505760208836369\n",
      "0.02588106003150681\n",
      "0.09287706753473779\n",
      "0.7953828588714773\n",
      "0.47747421399869994\n",
      "0.3355623037621377\n",
      "0.8428558489160459\n",
      "0.036465680572775994\n",
      "0.7566980608752142\n",
      "0.9308176222109824\n",
      "0.221554870552242\n",
      "0.2411986064526267\n",
      "0.7702984711211202\n",
      "0.7723503298266617\n",
      "0.7882563907348875\n",
      "0.8279069408231227\n",
      "0.39895064766238697\n",
      "0.7765355957849497\n",
      "sum= 10.041642590615211\n"
     ]
    }
   ],
   "source": [
    "import numpy.random as random\n",
    "\n",
    "#0. make variable sum and initialize it to 0\n",
    "sum = 0\n",
    "\n",
    "while sum < 10: #4. repeat pts 1.-3. (loop) while sum is smaller than 10\n",
    "    #1. generate random number, `rn`\n",
    "    rn = random.rand()\n",
    "    #2. print random number\n",
    "    print(rn)\n",
    "    #3. calculate `sum`\n",
    "    sum = sum + rn # hmm... did not make this variable...\n",
    "\n",
    "print('sum=',sum)\n",
    "\n",
    "# Hmm... the sum is >10 ... I was hoping it will stop before that, \n",
    "# Why is this?... \"while\" loop stops when condition on guard variable is \"False\"!\n",
    "# How do I fix this? "
   ]
  },
  {
   "cell_type": "code",
   "execution_count": 8,
   "metadata": {
    "slideshow": {
     "slide_type": "subslide"
    }
   },
   "outputs": [
    {
     "name": "stdout",
     "output_type": "stream",
     "text": [
      "0.5676232263701904\n",
      "0.7136113942562029\n",
      "0.4501792147233008\n",
      "0.3697758075185965\n",
      "0.5381743793790191\n",
      "0.015398380252239607\n",
      "0.4463019872247944\n",
      "0.14681223189201542\n",
      "0.7016674798205889\n",
      "0.41210407213773437\n",
      "0.7109189171338479\n",
      "0.08746137367138496\n",
      "0.1960563258919964\n",
      "0.16910326331933467\n",
      "0.46369898253866426\n",
      "0.8743941237258146\n",
      "0.5004256554699626\n",
      "0.9789913176502298\n",
      "0.8976154243407285\n",
      "0.5298009950937872\n",
      "sum= 9.770114552410433\n"
     ]
    }
   ],
   "source": [
    "import numpy.random as random\n",
    "\n",
    "#0. make variable sum and initialize it to 0\n",
    "sum = 0\n",
    "\n",
    "while sum < 10: #4. repeat pts 1.-3. (loop) while sum is smaller than 10\n",
    "    #1. generate random number, `rn`\n",
    "    rn = random.rand()\n",
    "    #1b. break the loop if adding rn will exceed 10\n",
    "    if(sum + rn >= 10):\n",
    "        break\n",
    "    #2. print random number\n",
    "    print(rn)\n",
    "    \n",
    "    #3. calculate `sum`\n",
    "    sum = sum + rn # hmm... did not make this variable...\n",
    "\n",
    "print('sum=',sum)\n",
    "# Hmm... the sum is >10 ... I was hoping it will stop before that, \n",
    "# Why is this?... \"while\" loop stops when condition on guard variable is \"False\"!\n",
    "# How do I fix this?"
   ]
  },
  {
   "cell_type": "markdown",
   "metadata": {
    "slideshow": {
     "slide_type": "slide"
    }
   },
   "source": [
    "# First discussion of functions (more on functions next week)"
   ]
  },
  {
   "cell_type": "markdown",
   "metadata": {
    "slideshow": {
     "slide_type": "subslide"
    }
   },
   "source": [
    "## 1. Functions\n",
    "* Why?\n",
    "    - Repeated code \n",
    "    - Isolate errors\n",
    "    - more compact/readable, easier to communicate to others\n",
    "      "
   ]
  },
  {
   "cell_type": "markdown",
   "metadata": {
    "slideshow": {
     "slide_type": "subslide"
    }
   },
   "source": [
    "## Functions\n",
    "* How?\n",
    "    - Syntax"
   ]
  },
  {
   "cell_type": "code",
   "execution_count": 9,
   "metadata": {
    "slideshow": {
     "slide_type": "fragment"
    }
   },
   "outputs": [
    {
     "name": "stdout",
     "output_type": "stream",
     "text": [
      "Welcome!\n",
      "Enjoy your coffee.\n"
     ]
    }
   ],
   "source": [
    "# function definition => writing a recipy\n",
    "def print_welcom_message(): \n",
    "    print(\"Welcome!\")\n",
    "    print(\"Enjoy your coffee.\") #function output\n",
    "    \n",
    "# calling/using function => cooking a dish\n",
    "print_welcom_message()"
   ]
  },
  {
   "cell_type": "markdown",
   "metadata": {
    "slideshow": {
     "slide_type": "subslide"
    }
   },
   "source": [
    "## Functions\n",
    "\n",
    "* How?\n",
    "    - Syntax\n",
    "        -  <span style=\"color:blue\">Input parameters (or arguments) </span>"
   ]
  },
  {
   "cell_type": "code",
   "execution_count": 14,
   "metadata": {},
   "outputs": [
    {
     "name": "stdout",
     "output_type": "stream",
     "text": [
      "Welcome,  Patrik !\n",
      "Enjoy your coffee.\n",
      "Welcome,  Tobias !\n",
      "Enjoy your coffee.\n"
     ]
    }
   ],
   "source": [
    "def print_welcom_message(name): #name is the input parameter\n",
    "    print(\"Welcome, \", name, \"!\")\n",
    "    print(\"Enjoy your coffee.\") #function output\n",
    "\n",
    "print_welcom_message(\"Patrik\") #\"Patrik\" is an argument\n",
    "print_welcom_message(\"Tobias\")\n"
   ]
  },
  {
   "cell_type": "markdown",
   "metadata": {
    "slideshow": {
     "slide_type": "subslide"
    },
    "tags": []
   },
   "source": [
    "## Functions\n",
    "\n",
    "* How?\n",
    "    - Syntaxis\n",
    "        - Input parameters\n",
    "        - <span style=\"color:blue\"> Output </span> with ´return´\n",
    "   "
   ]
  },
  {
   "cell_type": "code",
   "execution_count": 9,
   "metadata": {
    "slideshow": {
     "slide_type": "fragment"
    }
   },
   "outputs": [
    {
     "name": "stdout",
     "output_type": "stream",
     "text": [
      "8 11\n"
     ]
    }
   ],
   "source": [
    "def addNumbers(a,b): #a, b are input parameters\n",
    "    c = a + b\n",
    "    d = 2*a + b\n",
    "    return c, d #function output \n",
    "\n",
    "out_1, out_2 = addNumbers(3,5)\n",
    "print(out_1, out_2)"
   ]
  },
  {
   "cell_type": "markdown",
   "metadata": {
    "slideshow": {
     "slide_type": "slide"
    }
   },
   "source": [
    "## <span style=\"color:blue\"> Local</span> and <span style=\"color:blue\"> global </span> variables\n",
    "\n",
    "Not all variables can be accessed from anywhere in a program. "
   ]
  },
  {
   "cell_type": "markdown",
   "metadata": {
    "slideshow": {
     "slide_type": "slide"
    },
    "tags": []
   },
   "source": [
    "#### Example 1: Local variable \n",
    "#### if\n",
    "#### - defined <span style=\"color:blue\"> inside function </span>\n",
    "#### - defined as input variable "
   ]
  },
  {
   "cell_type": "code",
   "execution_count": 75,
   "metadata": {
    "slideshow": {
     "slide_type": "fragment"
    }
   },
   "outputs": [
    {
     "name": "stdout",
     "output_type": "stream",
     "text": [
      "7\n"
     ]
    }
   ],
   "source": [
    "def example_local():\n",
    "    y = 7 #local variable - variable defined inside function\n",
    "    print(y)\n",
    "    \n",
    "example_local()"
   ]
  },
  {
   "cell_type": "markdown",
   "metadata": {
    "slideshow": {
     "slide_type": "fragment"
    }
   },
   "source": [
    "**Note 1**: Local variables exist only inside the functions!"
   ]
  },
  {
   "cell_type": "code",
   "execution_count": 77,
   "metadata": {
    "slideshow": {
     "slide_type": "fragment"
    }
   },
   "outputs": [
    {
     "ename": "NameError",
     "evalue": "name 'y' is not defined",
     "output_type": "error",
     "traceback": [
      "\u001b[0;31m---------------------------------------------------------------------------\u001b[0m",
      "\u001b[0;31mNameError\u001b[0m                                 Traceback (most recent call last)",
      "Cell \u001b[0;32mIn[77], line 1\u001b[0m\n\u001b[0;32m----> 1\u001b[0m \u001b[38;5;28mprint\u001b[39m(y)\n",
      "\u001b[0;31mNameError\u001b[0m: name 'y' is not defined"
     ]
    }
   ],
   "source": [
    "print(y) #--> name 'y' is not defined"
   ]
  },
  {
   "cell_type": "markdown",
   "metadata": {
    "slideshow": {
     "slide_type": "slide"
    },
    "tags": []
   },
   "source": [
    "#### Example 1: Local variable \n",
    "#### if\n",
    "#### - defined  inside function \n",
    "#### - defined <span style=\"color:blue\"> as input parameter</span>"
   ]
  },
  {
   "cell_type": "code",
   "execution_count": null,
   "metadata": {
    "slideshow": {
     "slide_type": "fragment"
    }
   },
   "outputs": [],
   "source": [
    "def example_local(y):# y is a local varaible when defined as a input parameter \n",
    "   # y = 7 #local varaible - varaible defined inside function\n",
    "    print(y)\n",
    "    \n",
    "example_local(7)"
   ]
  },
  {
   "cell_type": "markdown",
   "metadata": {
    "slideshow": {
     "slide_type": "fragment"
    }
   },
   "source": [
    "**Note 1**: Local variables exist only inside the functions!"
   ]
  },
  {
   "cell_type": "code",
   "execution_count": null,
   "metadata": {
    "slideshow": {
     "slide_type": "fragment"
    }
   },
   "outputs": [],
   "source": [
    "print(y) #--> name 'y' is not defined"
   ]
  },
  {
   "cell_type": "markdown",
   "metadata": {
    "slideshow": {
     "slide_type": "slide"
    },
    "tags": []
   },
   "source": [
    "#### Example 2 - global variable, can be accessed inside the function"
   ]
  },
  {
   "cell_type": "code",
   "execution_count": null,
   "metadata": {
    "slideshow": {
     "slide_type": "fragment"
    },
    "tags": []
   },
   "outputs": [],
   "source": [
    "y = 7 # Global variable - variable defined outside the functions \n",
    "\n",
    "def example_global():\n",
    "    print('Inside the function: y=',y)\n",
    "    \n",
    "example_global()"
   ]
  },
  {
   "cell_type": "code",
   "execution_count": null,
   "metadata": {
    "slideshow": {
     "slide_type": "fragment"
    },
    "tags": []
   },
   "outputs": [],
   "source": [
    "print('Outside the function: y=',y)"
   ]
  },
  {
   "cell_type": "markdown",
   "metadata": {
    "slideshow": {
     "slide_type": "fragment"
    }
   },
   "source": [
    "**Note 2**: Global variables can be accesed inside the function!"
   ]
  },
  {
   "cell_type": "markdown",
   "metadata": {
    "slideshow": {
     "slide_type": "slide"
    },
    "tags": []
   },
   "source": [
    "#### Example 3a - what if I have both a Local (L) and a Global(G) variable with the same name?\n",
    "####  <span style=\"color:blue\"> LG</span> - rule: first look for local, then for global"
   ]
  },
  {
   "cell_type": "code",
   "execution_count": null,
   "metadata": {
    "slideshow": {
     "slide_type": "fragment"
    },
    "tags": []
   },
   "outputs": [],
   "source": [
    "y = 7 # Global variable - variable defined outside the functions \n",
    "\n",
    "def example_local():\n",
    "    y = 5 #local variable - variable defined inside function\n",
    "    print('Inside the function: y=',y)\n",
    "    \n",
    "example_local()"
   ]
  },
  {
   "cell_type": "code",
   "execution_count": null,
   "metadata": {
    "slideshow": {
     "slide_type": "fragment"
    },
    "tags": []
   },
   "outputs": [],
   "source": [
    "print('Outside the function: y=',y)"
   ]
  },
  {
   "cell_type": "markdown",
   "metadata": {
    "slideshow": {
     "slide_type": "slide"
    },
    "tags": []
   },
   "source": [
    "#### Example 3b - what if I have both a Local (L) and a Global(G) variable with the same name?\n",
    "####  <span style=\"color:blue\"> LG</span> - rule: first look for local, then for global"
   ]
  },
  {
   "cell_type": "code",
   "execution_count": 15,
   "metadata": {
    "slideshow": {
     "slide_type": "fragment"
    },
    "tags": []
   },
   "outputs": [
    {
     "name": "stdout",
     "output_type": "stream",
     "text": [
      "Inside the function: y= 5\n"
     ]
    }
   ],
   "source": [
    "y = 7 # Global variable - variable defined outside the functions \n",
    "\n",
    "def example_local(y):# y is a local varaible when defined as a input parameter \n",
    "    #y = 5 \n",
    "    print('Inside the function: y=',y)\n",
    "    \n",
    "example_local(5)"
   ]
  },
  {
   "cell_type": "markdown",
   "metadata": {
    "slideshow": {
     "slide_type": "slide"
    },
    "tags": []
   },
   "source": [
    "#### Example 4 - what if I want to modify a global variable inside a function?\n"
   ]
  },
  {
   "cell_type": "code",
   "execution_count": null,
   "metadata": {
    "slideshow": {
     "slide_type": "fragment"
    },
    "tags": []
   },
   "outputs": [],
   "source": [
    "y = 5\n",
    "\n",
    "def example_local():\n",
    "    y = y + 7\n",
    "    print('Inside the function: y=', y)\n",
    "    \n",
    "example_local()\n",
    "print('Outside the function: y=',y)"
   ]
  },
  {
   "cell_type": "markdown",
   "metadata": {
    "slideshow": {
     "slide_type": "slide"
    },
    "tags": []
   },
   "source": [
    "\n",
    "#### Example 5 - \n",
    "<span style=\"color:blue\">To modify </span> inside the function , declare it `global` "
   ]
  },
  {
   "cell_type": "code",
   "execution_count": null,
   "metadata": {
    "slideshow": {
     "slide_type": "fragment"
    },
    "tags": []
   },
   "outputs": [],
   "source": [
    "y = 5\n",
    "\n",
    "def example_local():\n",
    "    global y\n",
    "    y = y + 7\n",
    "    print('Inside the function: y=', y)\n",
    "    \n",
    "example_local()\n",
    "print('Outside the function: y=',y)"
   ]
  },
  {
   "cell_type": "markdown",
   "metadata": {
    "slideshow": {
     "slide_type": "slide"
    }
   },
   "source": [
    "# Visualizations"
   ]
  },
  {
   "cell_type": "markdown",
   "metadata": {
    "slideshow": {
     "slide_type": "subslide"
    }
   },
   "source": [
    "## _Matplotlib_\n",
    "\n",
    "- There are many options in Python\n",
    "- We will use the simple `matplotlib`\n",
    "  - and more specifically, a sub-library `pyplot`"
   ]
  },
  {
   "cell_type": "code",
   "execution_count": 16,
   "metadata": {
    "slideshow": {
     "slide_type": "fragment"
    }
   },
   "outputs": [],
   "source": [
    "import matplotlib.pyplot as plt "
   ]
  },
  {
   "cell_type": "markdown",
   "metadata": {
    "slideshow": {
     "slide_type": "subslide"
    }
   },
   "source": [
    "## Plot lines"
   ]
  },
  {
   "cell_type": "code",
   "execution_count": 17,
   "metadata": {},
   "outputs": [
    {
     "data": {
      "image/png": "[encoded data removed]",
      "text/plain": [
       "<Figure size 432x288 with 1 Axes>"
      ]
     },
     "metadata": {
      "needs_background": "light"
     },
     "output_type": "display_data"
    }
   ],
   "source": [
    "import numpy as np\n",
    "  \n",
    "data = np.arange(-100, 100, 10)\n",
    "plt.plot(data);  # Semi-colon to suppress return value"
   ]
  },
  {
   "cell_type": "markdown",
   "metadata": {
    "slideshow": {
     "slide_type": "subslide"
    }
   },
   "source": [
    "## More lines"
   ]
  },
  {
   "cell_type": "code",
   "execution_count": 18,
   "metadata": {},
   "outputs": [
    {
     "data": {
      "image/png": "[encoded data removed]",
      "text/plain": [
       "<Figure size 432x288 with 1 Axes>"
      ]
     },
     "metadata": {
      "needs_background": "light"
     },
     "output_type": "display_data"
    }
   ],
   "source": [
    "plt.grid()\n",
    "plt.plot(data)\n",
    "plt.plot(data * 0.5)\n",
    "plt.plot(data * 0.25)\n",
    "plt.plot(data * 0.01);"
   ]
  },
  {
   "cell_type": "markdown",
   "metadata": {},
   "source": [
    "_Matplotlib_ automatically gives different colors"
   ]
  },
  {
   "cell_type": "markdown",
   "metadata": {
    "slideshow": {
     "slide_type": "subslide"
    }
   },
   "source": [
    "## ... with points"
   ]
  },
  {
   "cell_type": "code",
   "execution_count": null,
   "metadata": {},
   "outputs": [],
   "source": [
    "from numpy import abs\n",
    "plt.grid()\n",
    "plt.plot(abs(data), 'bo');"
   ]
  },
  {
   "cell_type": "markdown",
   "metadata": {},
   "source": [
    "Here we have specified blue (`b`) and circles (`o`). "
   ]
  },
  {
   "cell_type": "markdown",
   "metadata": {
    "slideshow": {
     "slide_type": "subslide"
    }
   },
   "source": [
    "## Lines and points"
   ]
  },
  {
   "cell_type": "code",
   "execution_count": null,
   "metadata": {},
   "outputs": [],
   "source": [
    "plt.grid()\n",
    "plt.plot(abs(data), 'bo-');"
   ]
  },
  {
   "cell_type": "markdown",
   "metadata": {
    "slideshow": {
     "slide_type": "subslide"
    }
   },
   "source": [
    "## Variations"
   ]
  },
  {
   "cell_type": "code",
   "execution_count": 19,
   "metadata": {
    "slideshow": {
     "slide_type": "subslide"
    }
   },
   "outputs": [
    {
     "data": {
      "text/plain": [
       "[<matplotlib.lines.Line2D at 0x1c485984198>]"
      ]
     },
     "execution_count": 19,
     "metadata": {},
     "output_type": "execute_result"
    },
    {
     "data": {
      "image/png": "[encoded data removed]",
      "text/plain": [
       "<Figure size 432x288 with 1 Axes>"
      ]
     },
     "metadata": {
      "needs_background": "light"
     },
     "output_type": "display_data"
    }
   ],
   "source": [
    "plt.grid()\n",
    "plt.plot(data, 'bo-')\n",
    "plt.plot(data * 0.5, 'g.-' )\n",
    "plt.plot(data * 0.25, 'rv-' )\n",
    "plt.plot(data * 0.01, 'c^-' )"
   ]
  },
  {
   "cell_type": "code",
   "execution_count": null,
   "metadata": {
    "slideshow": {
     "slide_type": "fragment"
    }
   },
   "outputs": [],
   "source": [
    "plt.xlabel('time')\n",
    "plt.ylabel('Current')\n",
    "plt.title('Current vs. time')"
   ]
  },
  {
   "cell_type": "markdown",
   "metadata": {
    "slideshow": {
     "slide_type": "subslide"
    }
   },
   "source": [
    "## Matrix (3D) visualization"
   ]
  },
  {
   "cell_type": "code",
   "execution_count": 20,
   "metadata": {
    "scrolled": true
   },
   "outputs": [
    {
     "name": "stdout",
     "output_type": "stream",
     "text": [
      "[[ 0  1  2  3  4]\n",
      " [ 5  6  7  8  9]\n",
      " [10 11 12 13 14]\n",
      " [15 16 17 18 19]\n",
      " [20 21 22 23 24]]\n"
     ]
    },
    {
     "data": {
      "text/plain": [
       "<matplotlib.colorbar.Colorbar at 0x1c4858f9400>"
      ]
     },
     "execution_count": 20,
     "metadata": {},
     "output_type": "execute_result"
    },
    {
     "data": {
      "image/png": "[encoded data removed]",
      "text/plain": [
       "<Figure size 432x288 with 2 Axes>"
      ]
     },
     "metadata": {
      "needs_background": "light"
     },
     "output_type": "display_data"
    }
   ],
   "source": [
    "d = np.arange(25).reshape((5, 5))\n",
    "print(d)\n",
    "plt.imshow(d);  # Eller plt.matshow\n",
    "plt.colorbar()"
   ]
  },
  {
   "cell_type": "markdown",
   "metadata": {
    "slideshow": {
     "slide_type": "slide"
    }
   },
   "source": [
    "# Assignment 1, overview\n"
   ]
  },
  {
   "cell_type": "code",
   "execution_count": null,
   "metadata": {},
   "outputs": [],
   "source": []
  },
  {
   "cell_type": "code",
   "execution_count": null,
   "metadata": {},
   "outputs": [],
   "source": []
  }
 ],
 "metadata": {
  "celltoolbar": "Slideshow",
  "kernelspec": {
   "display_name": "base",
   "language": "python",
   "name": "python3"
  },
  "language_info": {
   "codemirror_mode": {
    "name": "ipython",
    "version": 3
   },
   "file_extension": ".py",
   "mimetype": "text/x-python",
   "name": "python",
   "nbconvert_exporter": "python",
   "pygments_lexer": "ipython3",
   "version": "3.12.7"
  },
  "nbTranslate": {
   "displayLangs": [
    "fr",
    "en"
   ],
   "hotkey": "alt-t",
   "langInMainMenu": true,
   "sourceLang": "en",
   "targetLang": "fr",
   "useGoogleTranslate": true
  },
  "toc": {
   "base_numbering": 1,
   "nav_menu": {},
   "number_sections": false,
   "sideBar": true,
   "skip_h1_title": false,
   "title_cell": "Table of Contents",
   "title_sidebar": "Contents",
   "toc_cell": false,
   "toc_position": {},
   "toc_section_display": true,
   "toc_window_display": true
  },
  "varInspector": {
   "cols": {
    "lenName": 16,
    "lenType": 16,
    "lenVar": 40
   },
   "kernels_config": {
    "python": {
     "delete_cmd_postfix": "",
     "delete_cmd_prefix": "del ",
     "library": "var_list.py",
     "varRefreshCmd": "print(var_dic_list())"
    },
    "r": {
     "delete_cmd_postfix": ") ",
     "delete_cmd_prefix": "rm(",
     "library": "var_list.r",
     "varRefreshCmd": "cat(var_dic_list()) "
    }
   },
   "types_to_exclude": [
    "module",
    "function",
    "builtin_function_or_method",
    "instance",
    "_Feature"
   ],
   "window_display": false
  }
 },
 "nbformat": 4,
 "nbformat_minor": 4
}
