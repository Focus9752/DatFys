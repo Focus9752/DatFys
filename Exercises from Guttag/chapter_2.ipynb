{
 "cells": [
  {
   "cell_type": "code",
   "execution_count": null,
   "metadata": {},
   "outputs": [
    {
     "name": "stdout",
     "output_type": "stream",
     "text": [
      "XXXXX\n"
     ]
    }
   ],
   "source": [
    "numXs = int(input('How many times should I print the letter X? '))\n",
    "toPrint = ''\n",
    "#concatenate X to toPrint numXs times\n",
    "iteration = 0\n",
    "while(iteration != numXs):\n",
    "    toPrint += 'X'\n",
    "    iteration += 1\n",
    "print(toPrint)"
   ]
  },
  {
   "cell_type": "code",
   "execution_count": null,
   "metadata": {},
   "outputs": [
    {
     "name": "stdout",
     "output_type": "stream",
     "text": [
      "You didn't enter any odd numbers!\n"
     ]
    }
   ],
   "source": [
    "numbers = [int(item) for item in input(\"Please enter some integers seperated by spaces: \").split()]\n",
    "for number in numbers:\n",
    "    if number % 2 == 0:\n",
    "        numbers.remove(number)\n",
    "    \n",
    "if not numbers:\n",
    "    print(\"You didn't enter any odd numbers!\")\n",
    "else:\n",
    "    print(max(numbers))"
   ]
  }
 ],
 "metadata": {
  "kernelspec": {
   "display_name": "base",
   "language": "python",
   "name": "python3"
  },
  "language_info": {
   "codemirror_mode": {
    "name": "ipython",
    "version": 3
   },
   "file_extension": ".py",
   "mimetype": "text/x-python",
   "name": "python",
   "nbconvert_exporter": "python",
   "pygments_lexer": "ipython3",
   "version": "3.12.7"
  }
 },
 "nbformat": 4,
 "nbformat_minor": 2
}
